{
 "cells": [
  {
   "cell_type": "code",
   "execution_count": 1,
   "id": "a01970bb",
   "metadata": {},
   "outputs": [],
   "source": [
    "import gensim\n",
    "from gensim.models import Word2Vec, KeyedVectors\n",
    "import gensim.downloader as api\n",
    "wv = api.load('word2vec-google-news-300')"
   ]
  },
  {
   "cell_type": "code",
   "execution_count": 14,
   "id": "906d5398",
   "metadata": {},
   "outputs": [],
   "source": [
    "import pandas as pd\n",
    "import re\n",
    "dataset = pd.read_csv('spam_ham_dataset.csv', usecols = ['text','label_num'])"
   ]
  },
  {
   "cell_type": "code",
   "execution_count": 15,
   "id": "d63aef1f",
   "metadata": {},
   "outputs": [],
   "source": [
    "dataset['text'] = dataset['text'].apply(lambda x: re.sub(r'Subject:','',x))\n",
    "dataset['text'] = dataset['text'].apply(lambda x: re.sub(r'http\\S+|www\\S+|https\\S+','',x))\n",
    "dataset['text'] = dataset['text'].apply(lambda x: re.sub(r'[^a-z\\s]','',x))"
   ]
  },
  {
   "cell_type": "code",
   "execution_count": 16,
   "id": "d62d363a",
   "metadata": {},
   "outputs": [],
   "source": [
    "dataset['tokens'] = dataset['text'].str.lower().str.split()"
   ]
  },
  {
   "cell_type": "code",
   "execution_count": 17,
   "id": "0efd1136",
   "metadata": {},
   "outputs": [
    {
     "data": {
      "text/html": [
       "<div>\n",
       "<style scoped>\n",
       "    .dataframe tbody tr th:only-of-type {\n",
       "        vertical-align: middle;\n",
       "    }\n",
       "\n",
       "    .dataframe tbody tr th {\n",
       "        vertical-align: top;\n",
       "    }\n",
       "\n",
       "    .dataframe thead th {\n",
       "        text-align: right;\n",
       "    }\n",
       "</style>\n",
       "<table border=\"1\" class=\"dataframe\">\n",
       "  <thead>\n",
       "    <tr style=\"text-align: right;\">\n",
       "      <th></th>\n",
       "      <th>text</th>\n",
       "      <th>label_num</th>\n",
       "      <th>tokens</th>\n",
       "    </tr>\n",
       "  </thead>\n",
       "  <tbody>\n",
       "    <tr>\n",
       "      <th>0</th>\n",
       "      <td>enron methanol  meter   \\r\\nthis is a follow ...</td>\n",
       "      <td>0</td>\n",
       "      <td>[enron, methanol, meter, this, is, a, follow, ...</td>\n",
       "    </tr>\n",
       "    <tr>\n",
       "      <th>1</th>\n",
       "      <td>hpl nom for january   \\r\\n see attached file ...</td>\n",
       "      <td>0</td>\n",
       "      <td>[hpl, nom, for, january, see, attached, file, ...</td>\n",
       "    </tr>\n",
       "    <tr>\n",
       "      <th>2</th>\n",
       "      <td>neon retreat\\r\\nho ho ho  we  re around to th...</td>\n",
       "      <td>0</td>\n",
       "      <td>[neon, retreat, ho, ho, ho, we, re, around, to...</td>\n",
       "    </tr>\n",
       "    <tr>\n",
       "      <th>3</th>\n",
       "      <td>photoshop  windows  office  cheap  main trend...</td>\n",
       "      <td>1</td>\n",
       "      <td>[photoshop, windows, office, cheap, main, tren...</td>\n",
       "    </tr>\n",
       "    <tr>\n",
       "      <th>4</th>\n",
       "      <td>re  indian springs\\r\\nthis deal is to book th...</td>\n",
       "      <td>0</td>\n",
       "      <td>[re, indian, springs, this, deal, is, to, book...</td>\n",
       "    </tr>\n",
       "  </tbody>\n",
       "</table>\n",
       "</div>"
      ],
      "text/plain": [
       "                                                text  label_num  \\\n",
       "0   enron methanol  meter   \\r\\nthis is a follow ...          0   \n",
       "1   hpl nom for january   \\r\\n see attached file ...          0   \n",
       "2   neon retreat\\r\\nho ho ho  we  re around to th...          0   \n",
       "3   photoshop  windows  office  cheap  main trend...          1   \n",
       "4   re  indian springs\\r\\nthis deal is to book th...          0   \n",
       "\n",
       "                                              tokens  \n",
       "0  [enron, methanol, meter, this, is, a, follow, ...  \n",
       "1  [hpl, nom, for, january, see, attached, file, ...  \n",
       "2  [neon, retreat, ho, ho, ho, we, re, around, to...  \n",
       "3  [photoshop, windows, office, cheap, main, tren...  \n",
       "4  [re, indian, springs, this, deal, is, to, book...  "
      ]
     },
     "execution_count": 17,
     "metadata": {},
     "output_type": "execute_result"
    }
   ],
   "source": [
    "dataset.head()"
   ]
  },
  {
   "cell_type": "code",
   "execution_count": 18,
   "id": "556d5d25",
   "metadata": {},
   "outputs": [],
   "source": [
    "#train word2vec model\n",
    "w2v_model = Word2Vec(sentences=dataset['tokens'], vector_size=100, window=5, min_count=1,workers=3)"
   ]
  },
  {
   "cell_type": "code",
   "execution_count": 22,
   "id": "ef5f2007",
   "metadata": {},
   "outputs": [],
   "source": [
    "import numpy as np\n",
    "#Function to average word vectors\n",
    "def vectorize(tokens):\n",
    "    vectors = [w2v_model.wv[word] for word in tokens if word in w2v_model.wv]\n",
    "    return np.mean(vectors,axis=0) if vectors else np.zeros(100)"
   ]
  },
  {
   "cell_type": "code",
   "execution_count": 23,
   "id": "9f105c27",
   "metadata": {},
   "outputs": [
    {
     "data": {
      "text/plain": [
       "((5171, 100), (5171,))"
      ]
     },
     "execution_count": 23,
     "metadata": {},
     "output_type": "execute_result"
    }
   ],
   "source": [
    "#create matric of features\n",
    "x = np.array([vectorize(tokens) for tokens in dataset['tokens']])\n",
    "y = dataset['label_num'].values\n",
    "x.shape, y.shape"
   ]
  },
  {
   "cell_type": "code",
   "execution_count": 26,
   "id": "010734c8",
   "metadata": {},
   "outputs": [
    {
     "data": {
      "text/plain": [
       "((4136, 100), (1035, 100), (4136,), (1035,))"
      ]
     },
     "execution_count": 26,
     "metadata": {},
     "output_type": "execute_result"
    }
   ],
   "source": [
    "#train and test split\n",
    "from sklearn.model_selection import train_test_split\n",
    "xtrain, xtest, ytrain, ytest = train_test_split(x,y,test_size=0.2, random_state=42, stratify=y)\n",
    "xtrain.shape, xtest.shape, ytrain.shape, ytest.shape"
   ]
  },
  {
   "cell_type": "code",
   "execution_count": 27,
   "metadata": {},
   "outputs": [
    {
     "data": {
      "text/plain": [
       "0.9497584541062802"
      ]
     },
     "execution_count": 27,
     "metadata": {},
     "output_type": "execute_result"
    }
   ],
   "source": [
    "# train classifier\n",
    "from sklearn.linear_model import LogisticRegression\n",
    "clf = LogisticRegression()\n",
    "clf.fit(xtrain, ytrain)\n",
    "clf.score(xtest, ytest)\n",
    " "
   ]
  },
  {
   "cell_type": "markdown",
   "id": "c0910720",
   "metadata": {},
   "source": [
    "we can use different ML algorithm to make it more bit good in accuacy but BTW accuracy is optimal at all, it's up to you."
   ]
  },
  {
   "cell_type": "code",
   "execution_count": null,
   "id": "8f5ee020",
   "metadata": {},
   "outputs": [],
   "source": []
  }
 ],
 "metadata": {
  "kernelspec": {
   "display_name": "venv",
   "language": "python",
   "name": "python3"
  },
  "language_info": {
   "codemirror_mode": {
    "name": "ipython",
    "version": 3
   },
   "file_extension": ".py",
   "mimetype": "text/x-python",
   "name": "python",
   "nbconvert_exporter": "python",
   "pygments_lexer": "ipython3",
   "version": "3.12.1"
  }
 },
 "nbformat": 4,
 "nbformat_minor": 5
}
